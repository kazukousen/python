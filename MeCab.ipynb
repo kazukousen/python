{
 "cells": [
  {
   "cell_type": "code",
   "execution_count": 1,
   "metadata": {
    "collapsed": true
   },
   "outputs": [],
   "source": [
    "import MeCab"
   ]
  },
  {
   "cell_type": "code",
   "execution_count": null,
   "metadata": {
    "collapsed": false
   },
   "outputs": [],
   "source": [
    "def make_analyzed_file(input_file_name, output_file_name):\n",
    "    \"\"\"\n",
    "    プレーンな文章ファイルを形態素解析してファイルに保存する。\n",
    "    param: input_file_name プレーンな日本語の文章ファイル名\n",
    "    param: output_file_name 形態素解析済みの文章ファイル名\n",
    "    \"\"\"\n",
    "    _m = MeCab.Tagger(\"-Ochasen\")\n",
    "    \n",
    "    with open(input_file_name) as input_file:\n",
    "        with open(output_file_name, mode='w') as output_file:\n",
    "            output_file.write(_m.parse(input_file.read().encode('utf-8')))"
   ]
  },
  {
   "cell_type": "code",
   "execution_count": null,
   "metadata": {
    "collapsed": false
   },
   "outputs": [],
   "source": [
    "make_analyzed_file('neko.txt', 'neko.txt.mecab')"
   ]
  },
  {
   "cell_type": "code",
   "execution_count": null,
   "metadata": {
    "collapsed": false
   },
   "outputs": [],
   "source": [
    "# parseメソッド\n",
    "# str型文字列で分かち書き\n",
    "m = MeCab.Tagger(\"-Ochasen\")\n",
    "print m.parse(\"俺はバカ\")"
   ]
  },
  {
   "cell_type": "code",
   "execution_count": 9,
   "metadata": {
    "collapsed": false
   },
   "outputs": [
    {
     "data": {
      "text/plain": [
       "u'word_id_1'"
      ]
     },
     "execution_count": 9,
     "metadata": {},
     "output_type": "execute_result"
    }
   ],
   "source": [
    "words = []\n",
    "text = \"俺はバカ\"\n",
    "m = MeCab.Tagger(\"-Ochasen\")\n",
    "text = text.encode('utf-8')\n",
    "node = m.parseToNode(text)\n",
    "while node:\n",
    "    words.append(node.surface)\n",
    "    node = node.next\n",
    "\n",
    "for i, word in enumerate(words):\n",
    "    col.insert_one({\"word_id\": i, \"word\": word})\n",
    "\n",
    "col.create_index(\"word_id\")"
   ]
  },
  {
   "cell_type": "code",
   "execution_count": 8,
   "metadata": {
    "collapsed": true
   },
   "outputs": [],
   "source": [
    "from pymongo import MongoClient\n",
    "client = MongoClient()\n",
    "db = client['neko']\n",
    "col = db.Word"
   ]
  },
  {
   "cell_type": "code",
   "execution_count": 10,
   "metadata": {
    "collapsed": true
   },
   "outputs": [],
   "source": [
    "import MeCab\n",
    "m = MeCab.Tagger(\"-Ochasen\")"
   ]
  },
  {
   "cell_type": "code",
   "execution_count": 14,
   "metadata": {
    "collapsed": false
   },
   "outputs": [],
   "source": [
    "def split_to_word(text):\n",
    "    words = []\n",
    "    text = text.encode('utf-8')\n",
    "    node = m.parseToNode(text)\n",
    "    while node:\n",
    "        words.append(node.surface)\n",
    "        node = node.next\n",
    "    return words"
   ]
  },
  {
   "cell_type": "code",
   "execution_count": 17,
   "metadata": {
    "collapsed": false
   },
   "outputs": [],
   "source": [
    "def add_to_index(input_file_name):\n",
    "    with open(input_file_name) as input_file:\n",
    "        for i, word in enumerate(split_to_word(input_file.read())):\n",
    "            col.insert_one({\"word_id\": i, \"word\": word})\n",
    "    col.create_index(\"word_id\")"
   ]
  },
  {
   "cell_type": "code",
   "execution_count": 18,
   "metadata": {
    "collapsed": true
   },
   "outputs": [],
   "source": [
    "add_to_index('neko.txt')"
   ]
  },
  {
   "cell_type": "code",
   "execution_count": null,
   "metadata": {
    "collapsed": true
   },
   "outputs": [],
   "source": []
  }
 ],
 "metadata": {
  "kernelspec": {
   "display_name": "Python 2",
   "language": "python",
   "name": "python2"
  },
  "language_info": {
   "codemirror_mode": {
    "name": "ipython",
    "version": 2
   },
   "file_extension": ".py",
   "mimetype": "text/x-python",
   "name": "python",
   "nbconvert_exporter": "python",
   "pygments_lexer": "ipython2",
   "version": "2.7.11"
  }
 },
 "nbformat": 4,
 "nbformat_minor": 0
}
