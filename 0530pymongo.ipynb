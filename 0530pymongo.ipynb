{
 "cells": [
  {
   "cell_type": "markdown",
   "metadata": {},
   "source": [
    "# MongoDB\n",
    "## description\n",
    "- DB\n",
    "  - Collection(いわゆるテーブル)\n",
    "    - Document(DocumentId = ...)(key1: value1, key2: value2, ...)\n",
    "    - Document(DocumentId = ...)\n",
    "  - Collection\n",
    "    - Document(DocumentId = ...)\n",
    "    - Document(DocumentId = ...)\n",
    "\n",
    "\n",
    "## Usage\n",
    "```sh\n",
    "> show dbs # DB一覧\n",
    "> use test　# 新規作成・切り替え\n",
    "# Mathコレクションにドキュメントを挿入\n",
    "> db.Math.insert({Name: 'Taro', Score: 90})\n",
    "> db.Math.insert({Name: 'Jiro', Score: 80})\n",
    "> db.Math.insert({Name: 'Saburo', Score: 92})\n",
    "\n",
    "> db.getCollectionNames() # コレクションの一覧\n",
    "> db.DropDatabase() # DB削除\n",
    "```"
   ]
  },
  {
   "cell_type": "markdown",
   "metadata": {},
   "source": [
    "# pymongo\n",
    "## description\n",
    "Pythonのドライバ\n",
    "\n",
    "```sh\n",
    "$ pip install pymongo\n",
    "```\n",
    "\n",
    "## Usage\n",
    "\n",
    "```python\n",
    "from pymongo import MongoClient\n",
    "client = MongoClient()\n",
    "db = client['test']\n",
    "one = db.Math.insert_one({'Name': 'Bob', 'Score': 99}) # insertはdeprecate警告がでるようになってる\n",
    "one.inserted_id # => ObjectId('574c5321cda1d7dc126f51db')\n",
    "```"
   ]
  },
  {
   "cell_type": "code",
   "execution_count": 1,
   "metadata": {
    "collapsed": true
   },
   "outputs": [],
   "source": [
    "from pymongo import MongoClient"
   ]
  },
  {
   "cell_type": "code",
   "execution_count": 2,
   "metadata": {
    "collapsed": true
   },
   "outputs": [],
   "source": [
    "client = MongoClient()"
   ]
  },
  {
   "cell_type": "code",
   "execution_count": 3,
   "metadata": {
    "collapsed": true
   },
   "outputs": [],
   "source": [
    "db = client['test']"
   ]
  },
  {
   "cell_type": "code",
   "execution_count": 4,
   "metadata": {
    "collapsed": false
   },
   "outputs": [],
   "source": [
    "one = db.Math.insert_one({'Name': 'Bob', 'Score': 99})"
   ]
  },
  {
   "cell_type": "code",
   "execution_count": 5,
   "metadata": {
    "collapsed": false
   },
   "outputs": [
    {
     "name": "stdout",
     "output_type": "stream",
     "text": [
      "{u'_id': ObjectId('574c4fc227d78c83b4effdc4'), u'Score': 90.0, u'Name': u'Taro'}\n",
      "{u'_id': ObjectId('574c4fce27d78c83b4effdc5'), u'Score': 80.0, u'Name': u'Jiro'}\n",
      "{u'_id': ObjectId('574c4fda27d78c83b4effdc6'), u'Score': 92.0, u'Name': u'Saburo'}\n",
      "{u'_id': ObjectId('574c52becda1d7dc126f51d7'), u'Score': 99, u'Name': u'Bob'}\n",
      "{u'_id': ObjectId('574c52eecda1d7dc126f51d8'), u'Score': 99, u'Name': u'Bob'}\n",
      "{u'_id': ObjectId('574c5300cda1d7dc126f51d9'), u'Score': 99, u'Name': u'Bob'}\n",
      "{u'_id': ObjectId('574c5319cda1d7dc126f51da'), u'Score': 99, u'Name': u'Bob'}\n",
      "{u'_id': ObjectId('574c5321cda1d7dc126f51db'), u'Score': 99, u'Name': u'Bob'}\n",
      "{u'_id': ObjectId('574c5655cda1d7e218c11c61'), u'Score': 99, u'Name': u'Bob'}\n"
     ]
    }
   ],
   "source": [
    "for data in db.Math.find():\n",
    "    print (data)"
   ]
  },
  {
   "cell_type": "code",
   "execution_count": 6,
   "metadata": {
    "collapsed": false
   },
   "outputs": [
    {
     "data": {
      "text/plain": [
       "ObjectId('574c5655cda1d7e218c11c61')"
      ]
     },
     "execution_count": 6,
     "metadata": {},
     "output_type": "execute_result"
    }
   ],
   "source": [
    "one.inserted_id"
   ]
  }
 ],
 "metadata": {
  "kernelspec": {
   "display_name": "Python 2",
   "language": "python",
   "name": "python2"
  },
  "language_info": {
   "codemirror_mode": {
    "name": "ipython",
    "version": 2
   },
   "file_extension": ".py",
   "mimetype": "text/x-python",
   "name": "python",
   "nbconvert_exporter": "python",
   "pygments_lexer": "ipython2",
   "version": "2.7.10"
  }
 },
 "nbformat": 4,
 "nbformat_minor": 0
}
