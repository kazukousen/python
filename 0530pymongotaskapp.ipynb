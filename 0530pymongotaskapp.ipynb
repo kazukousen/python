{
 "cells": [
  {
   "cell_type": "markdown",
   "metadata": {},
   "source": [
    "# pymongoを使ってタスク管理\n",
    "## source\n",
    "[pymongo使い方まとめ](http://nwpct1.hatenablog.com/entry/python-mongodb-pymongo)\n",
    "\n",
    "## description\n",
    "\n",
    "```json\n",
    "{\n",
    "    'TwitterId': u'kazukousen',\n",
    "    'TaskNum': 3,\n",
    "    'Tasks': [\n",
    "        {\n",
    "            'TaskId': 0,\n",
    "            'TaskTitle: u'DeepLearning',\n",
    "            'TaskDone': False\n",
    "        },\n",
    "        {\n",
    "            'TaskId': 1,\n",
    "            'TaskTitle: u'pymongo',\n",
    "            'TaskDone': True,\n",
    "            'DoneComment': u'たのしかった!',\n",
    "            'DoneDate': u'2016-05-30'\n",
    "        },\n",
    "        {\n",
    "            'TaskId': 0,\n",
    "            'TaskTitle: u'Flask',\n",
    "            'TaskDone': False\n",
    "        }\n",
    "    ]\n",
    "}\n",
    "\n",
    "...他のユーザ\n",
    "```"
   ]
  },
  {
   "cell_type": "code",
   "execution_count": null,
   "metadata": {
    "collapsed": true
   },
   "outputs": [],
   "source": [
    "from pymongo import MongoClient\n",
    "import datetime as dt"
   ]
  },
  {
   "cell_type": "code",
   "execution_count": null,
   "metadata": {
    "collapsed": true
   },
   "outputs": [],
   "source": [
    "client = MongoClient()\n",
    "db = client['UserDB'] # データベースを取得\n",
    "col = db.User # Userコレクションを取得"
   ]
  },
  {
   "cell_type": "markdown",
   "metadata": {},
   "source": [
    "## method\n",
    "\n",
    "- ``find()``: 全部\n",
    "- ``find({'key': 'value'})``: 条件にマッチするのを全部取得\n",
    "- ``find_one({'key': 'value'})``: 条件にマッチするのを1つ取ってくる\n",
    "- ``count()``: findで取得したオブジェクトの数をカウントする"
   ]
  },
  {
   "cell_type": "markdown",
   "metadata": {},
   "source": [
    "## POST"
   ]
  },
  {
   "cell_type": "code",
   "execution_count": null,
   "metadata": {
    "collapsed": false
   },
   "outputs": [],
   "source": [
    "# ユーザ登録\n",
    "col.insert_one({'TwitterId': 'kazukousen', 'TaskNum': 0, 'Tasks': []})"
   ]
  },
  {
   "cell_type": "code",
   "execution_count": null,
   "metadata": {
    "collapsed": false
   },
   "outputs": [],
   "source": [
    "# ユーザ取得\n",
    "col.find_one({'TwitterId': 'kazukousen'})"
   ]
  },
  {
   "cell_type": "code",
   "execution_count": null,
   "metadata": {
    "collapsed": false
   },
   "outputs": [],
   "source": [
    "# タスク登録\n",
    "task_add = col.find_one({'TwitterId': 'kazukousen'})\n",
    "task_num = task_add['TaskNum']\n",
    "task_add['Tasks'].append({'TaskId': task_num, 'TaskTitle': 'DeepLearning', 'TaskDone': False})\n",
    "task_add['TaskNum'] += 1\n",
    "col.save(task_add) # DBに反映"
   ]
  },
  {
   "cell_type": "markdown",
   "metadata": {},
   "source": [
    "## GET"
   ]
  },
  {
   "cell_type": "code",
   "execution_count": null,
   "metadata": {
    "collapsed": false
   },
   "outputs": [],
   "source": [
    "# ユーザ一覧\n",
    "for user in col.find():\n",
    "    print user['TwitterId']"
   ]
  },
  {
   "cell_type": "code",
   "execution_count": null,
   "metadata": {
    "collapsed": false
   },
   "outputs": [],
   "source": [
    "# あるユーザのタスク一覧\n",
    "for task in col.find_one({'TwitterId': 'kazukousen'})['Tasks']:\n",
    "    print task['TaskId'], task['TaskTitle'], task['TaskDone']"
   ]
  },
  {
   "cell_type": "markdown",
   "metadata": {},
   "source": [
    "## PUT"
   ]
  },
  {
   "cell_type": "code",
   "execution_count": null,
   "metadata": {
    "collapsed": false
   },
   "outputs": [],
   "source": [
    "# 達成処理(TaskDone:をTrueに変更, DoneComment, DoneDateを追加)\n",
    "task_id = 0\n",
    "done_comment = u'最高ですね。'\n",
    "done_date = dt.datetime.now().strftime(\"%Y-%m-%d\")\n",
    "\n",
    "user = col.find_one({'TwitterId': 'kazukousen'})\n",
    "for task in user['Tasks']:\n",
    "    if task['TaskId'] == task_id:\n",
    "        task['TaskDone'] = True\n",
    "        task['DoneComment'] = done_comment\n",
    "        task['DoneDate'] = done_date\n",
    "        col.save(user)"
   ]
  },
  {
   "cell_type": "code",
   "execution_count": null,
   "metadata": {
    "collapsed": false
   },
   "outputs": [],
   "source": [
    "user"
   ]
  },
  {
   "cell_type": "markdown",
   "metadata": {},
   "source": [
    "## DELETE"
   ]
  },
  {
   "cell_type": "code",
   "execution_count": null,
   "metadata": {
    "collapsed": false
   },
   "outputs": [],
   "source": [
    "# タスク削除\n",
    "task_id = 0\n",
    "user = col.find_one({'TwitterId': 'kazukousen'})\n",
    "for task in user['Tasks']:\n",
    "    if task['TaskId'] == task_id:\n",
    "        user['Tasks'].remove(task)\n",
    "        user['TaskNum'] -= 1\n",
    "        col.save(user)\n",
    "        break\n",
    "    else:\n",
    "        print u\"そのようなタスクはありません\""
   ]
  },
  {
   "cell_type": "code",
   "execution_count": null,
   "metadata": {
    "collapsed": false
   },
   "outputs": [],
   "source": [
    "# アカウント削除\n",
    "account_id = col.find_one({'TwitterId': 'kazukousen'})['_id']\n",
    "col.delete_one({'_id': account_id})"
   ]
  }
 ],
 "metadata": {
  "kernelspec": {
   "display_name": "Python 2",
   "language": "python",
   "name": "python2"
  },
  "language_info": {
   "codemirror_mode": {
    "name": "ipython",
    "version": 2
   },
   "file_extension": ".py",
   "mimetype": "text/x-python",
   "name": "python",
   "nbconvert_exporter": "python",
   "pygments_lexer": "ipython2",
   "version": "2.7.10"
  }
 },
 "nbformat": 4,
 "nbformat_minor": 0
}
