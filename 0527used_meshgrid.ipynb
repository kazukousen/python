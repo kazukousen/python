{
 "cells": [
  {
   "cell_type": "markdown",
   "metadata": {},
   "source": [
    "# how to np.meshgrid()\n",
    "## reference\n",
    "[【Python】ふたつの配列からすべての組み合わせを評価](http://kaisk.hatenadiary.com/entry/2014/11/05/041011)\n",
    "\n",
    "## description\n",
    "numpyのメソッドの勉強。  \n",
    "\n",
    "- np.meshgrid\n",
    "- np.ravel()\n",
    "- np.shape\n",
    "- np.reshape"
   ]
  },
  {
   "cell_type": "code",
   "execution_count": 1,
   "metadata": {
    "collapsed": true
   },
   "outputs": [],
   "source": [
    "%matplotlib inline\n",
    "import numpy as np\n",
    "import matplotlib.pyplot as plt"
   ]
  },
  {
   "cell_type": "code",
   "execution_count": 2,
   "metadata": {
    "collapsed": true
   },
   "outputs": [],
   "source": [
    "# y > -x^2の視覚化"
   ]
  },
  {
   "cell_type": "code",
   "execution_count": 3,
   "metadata": {
    "collapsed": false
   },
   "outputs": [],
   "source": [
    "x = np.arange(-2, 2, 0.01)\n",
    "x2 = x**2\n",
    "y = np.arange(-5, 0, 0.01)"
   ]
  },
  {
   "cell_type": "code",
   "execution_count": 4,
   "metadata": {
    "collapsed": true
   },
   "outputs": [],
   "source": [
    "# np.meshgrid(2args)\n",
    "# args: m vector, n vector\n",
    "# return: m*len(n), n*len(m)\n",
    "xx, yy = np.meshgrid(x2, y)"
   ]
  },
  {
   "cell_type": "code",
   "execution_count": 5,
   "metadata": {
    "collapsed": false
   },
   "outputs": [],
   "source": [
    "# np.ndarray.ravel()\n",
    "# return: ばらけさせる flattend Array\n",
    "\n",
    "# np.c_[*args]\n",
    "# args: np.ndarray\n",
    "# return: 組み合わせ\n",
    "\n",
    "arg = np.c_[xx.ravel(), yy.ravel()]"
   ]
  },
  {
   "cell_type": "code",
   "execution_count": 6,
   "metadata": {
    "collapsed": true
   },
   "outputs": [],
   "source": [
    "ret = np.sum(arg, axis=1) # calc  x^2+y"
   ]
  },
  {
   "cell_type": "code",
   "execution_count": 7,
   "metadata": {
    "collapsed": false
   },
   "outputs": [
    {
     "data": {
      "image/png": "[encoded data removed]",
      "text/plain": [
       "<matplotlib.figure.Figure at 0x7faf84a19a50>"
      ]
     },
     "metadata": {},
     "output_type": "display_data"
    }
   ],
   "source": [
    "# np.ndarray.shape\n",
    "# return: tuple of array dimmention\n",
    "# ex: np.array([[1,2,3], [4,5,6]]).shape # => (2, 3)\n",
    "\n",
    "# np.ndarray.reshpe(args)\n",
    "# args: tupple of dimmention\n",
    "# return: same data with a new shape\n",
    "# ex: np.array([1, 2, 3, 4, 5, 6]).reshape(2, 3) #=> [[1, 2, 3], [4, 5, 6]]\n",
    "\n",
    "plt.contourf(x, y, ret.reshape(xx.shape)>0, cmap=plt.cm.Paired, alpha=0.8)\n",
    "plt.show()"
   ]
  },
  {
   "cell_type": "code",
   "execution_count": null,
   "metadata": {
    "collapsed": true
   },
   "outputs": [],
   "source": []
  }
 ],
 "metadata": {
  "kernelspec": {
   "display_name": "Python 2",
   "language": "python",
   "name": "python2"
  },
  "language_info": {
   "codemirror_mode": {
    "name": "ipython",
    "version": 2
   },
   "file_extension": ".py",
   "mimetype": "text/x-python",
   "name": "python",
   "nbconvert_exporter": "python",
   "pygments_lexer": "ipython2",
   "version": "2.7.11"
  }
 },
 "nbformat": 4,
 "nbformat_minor": 0
}
